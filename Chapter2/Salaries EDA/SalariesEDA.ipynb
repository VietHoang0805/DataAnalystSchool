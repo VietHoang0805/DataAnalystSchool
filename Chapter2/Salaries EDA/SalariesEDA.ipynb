{
 "cells": [
  {
   "cell_type": "code",
   "execution_count": 1,
   "id": "fc325902",
   "metadata": {},
   "outputs": [
    {
     "name": "stdout",
     "output_type": "stream",
     "text": [
      "       rank discipline  yrs.since.phd  yrs.service   sex  salary\n",
      "0      Prof          B             19           18  Male  139750\n",
      "1      Prof          B             20           16  Male  173200\n",
      "2  AsstProf          B              4            3  Male   79750\n",
      "3      Prof          B             45           39  Male  115000\n",
      "4      Prof          B             40           41  Male  141500\n"
     ]
    }
   ],
   "source": [
    "import pandas as pd\n",
    "\n",
    "# Đọc dataset\n",
    "df = pd.read_csv(\"Salaries.csv\")\n",
    "print(df.head())\n"
   ]
  },
  {
   "cell_type": "code",
   "execution_count": 2,
   "id": "edaecb46",
   "metadata": {},
   "outputs": [
    {
     "name": "stdout",
     "output_type": "stream",
     "text": [
      "<class 'pandas.core.frame.DataFrame'>\n",
      "RangeIndex: 397 entries, 0 to 396\n",
      "Data columns (total 6 columns):\n",
      " #   Column         Non-Null Count  Dtype \n",
      "---  ------         --------------  ----- \n",
      " 0   rank           397 non-null    object\n",
      " 1   discipline     397 non-null    object\n",
      " 2   yrs.since.phd  397 non-null    int64 \n",
      " 3   yrs.service    397 non-null    int64 \n",
      " 4   sex            397 non-null    object\n",
      " 5   salary         397 non-null    int64 \n",
      "dtypes: int64(3), object(3)\n",
      "memory usage: 18.7+ KB\n",
      "None\n",
      "        rank discipline  yrs.since.phd  yrs.service   sex         salary\n",
      "count    397        397     397.000000   397.000000   397     397.000000\n",
      "unique     3          2            NaN          NaN     2            NaN\n",
      "top     Prof          B            NaN          NaN  Male            NaN\n",
      "freq     266        216            NaN          NaN   358            NaN\n",
      "mean     NaN        NaN      22.314861    17.614610   NaN  113706.458438\n",
      "std      NaN        NaN      12.887003    13.006024   NaN   30289.038695\n",
      "min      NaN        NaN       1.000000     0.000000   NaN   57800.000000\n",
      "25%      NaN        NaN      12.000000     7.000000   NaN   91000.000000\n",
      "50%      NaN        NaN      21.000000    16.000000   NaN  107300.000000\n",
      "75%      NaN        NaN      32.000000    27.000000   NaN  134185.000000\n",
      "max      NaN        NaN      56.000000    60.000000   NaN  231545.000000\n"
     ]
    }
   ],
   "source": [
    "# Thông tin tổng quan\n",
    "print(df.info())\n",
    "\n",
    "# Thống kê mô tả\n",
    "print(df.describe(include=\"all\"))\n"
   ]
  },
  {
   "cell_type": "code",
   "execution_count": 3,
   "id": "5da7822f",
   "metadata": {},
   "outputs": [
    {
     "name": "stdout",
     "output_type": "stream",
     "text": [
      "   salary salary_level\n",
      "0  139750          Cao\n",
      "1  173200          Cao\n",
      "2   79750         Thấp\n",
      "3  115000   Trung bình\n",
      "4  141500          Cao\n"
     ]
    }
   ],
   "source": [
    "# Chia salary thành 3 mức dựa trên quantile\n",
    "df[\"salary_level\"] = pd.qcut(df[\"salary\"], q=3, labels=[\"Thấp\", \"Trung bình\", \"Cao\"])\n",
    "print(df[[\"salary\", \"salary_level\"]].head())\n"
   ]
  }
 ],
 "metadata": {
  "kernelspec": {
   "display_name": "tf",
   "language": "python",
   "name": "python3"
  },
  "language_info": {
   "codemirror_mode": {
    "name": "ipython",
    "version": 3
   },
   "file_extension": ".py",
   "mimetype": "text/x-python",
   "name": "python",
   "nbconvert_exporter": "python",
   "pygments_lexer": "ipython3",
   "version": "3.8.20"
  }
 },
 "nbformat": 4,
 "nbformat_minor": 5
}
