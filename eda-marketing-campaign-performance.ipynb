{
 "cells": [
  {
   "cell_type": "markdown",
   "id": "36e750a8",
   "metadata": {
    "papermill": {
     "duration": 0.006832,
     "end_time": "2023-06-26T07:00:32.692517",
     "exception": false,
     "start_time": "2023-06-26T07:00:32.685685",
     "status": "completed"
    },
    "tags": []
   },
   "source": [
    "# 🏠 Load libraries & data 🏠"
   ]
  },
  {
   "cell_type": "code",
   "execution_count": 1,
   "id": "0622a791",
   "metadata": {
    "_cell_guid": "b1076dfc-b9ad-4769-8c92-a6c4dae69d19",
    "_uuid": "8f2839f25d086af736a60e9eeb907d3b93b6e0e5",
    "execution": {
     "iopub.execute_input": "2023-06-26T07:00:32.708824Z",
     "iopub.status.busy": "2023-06-26T07:00:32.708131Z",
     "iopub.status.idle": "2023-06-26T07:00:34.032297Z",
     "shell.execute_reply": "2023-06-26T07:00:34.031432Z"
    },
    "papermill": {
     "duration": 1.334864,
     "end_time": "2023-06-26T07:00:34.034644",
     "exception": false,
     "start_time": "2023-06-26T07:00:32.699780",
     "status": "completed"
    },
    "tags": []
   },
   "outputs": [],
   "source": [
    "import pandas as pd\n",
    "import numpy as np\n",
    "import matplotlib.pyplot as plt\n",
    "import seaborn as sns\n",
    "from warnings import filterwarnings\n",
    "\n",
    "filterwarnings(\"ignore\")\n",
    "%matplotlib inline"
   ]
  },
  {
   "cell_type": "code",
   "execution_count": 2,
   "id": "7fb8ecc1",
   "metadata": {
    "execution": {
     "iopub.execute_input": "2023-06-26T07:00:34.050322Z",
     "iopub.status.busy": "2023-06-26T07:00:34.049952Z",
     "iopub.status.idle": "2023-06-26T07:00:34.784759Z",
     "shell.execute_reply": "2023-06-26T07:00:34.783673Z"
    },
    "papermill": {
     "duration": 0.745412,
     "end_time": "2023-06-26T07:00:34.787362",
     "exception": false,
     "start_time": "2023-06-26T07:00:34.041950",
     "status": "completed"
    },
    "tags": []
   },
   "outputs": [],
   "source": [
    "df= pd.read_csv(\"marketing_campaign_dataset.csv\")"
   ]
  },
  {
   "cell_type": "markdown",
   "id": "60ca9517",
   "metadata": {
    "papermill": {
     "duration": 0.006707,
     "end_time": "2023-06-26T07:00:34.801506",
     "exception": false,
     "start_time": "2023-06-26T07:00:34.794799",
     "status": "completed"
    },
    "tags": []
   },
   "source": [
    "# 📃 Basic Analysis 📃"
   ]
  },
  {
   "cell_type": "code",
   "execution_count": 3,
   "id": "feab21e7",
   "metadata": {
    "execution": {
     "iopub.execute_input": "2023-06-26T07:00:34.817678Z",
     "iopub.status.busy": "2023-06-26T07:00:34.817349Z",
     "iopub.status.idle": "2023-06-26T07:00:34.824657Z",
     "shell.execute_reply": "2023-06-26T07:00:34.823616Z"
    },
    "papermill": {
     "duration": 0.017792,
     "end_time": "2023-06-26T07:00:34.826650",
     "exception": false,
     "start_time": "2023-06-26T07:00:34.808858",
     "status": "completed"
    },
    "tags": []
   },
   "outputs": [
    {
     "data": {
      "text/plain": [
       "(200000, 16)"
      ]
     },
     "execution_count": 3,
     "metadata": {},
     "output_type": "execute_result"
    }
   ],
   "source": [
    "df.shape"
   ]
  },
  {
   "cell_type": "code",
   "execution_count": 4,
   "id": "6cc36896",
   "metadata": {
    "execution": {
     "iopub.execute_input": "2023-06-26T07:00:34.842857Z",
     "iopub.status.busy": "2023-06-26T07:00:34.842547Z",
     "iopub.status.idle": "2023-06-26T07:00:34.848888Z",
     "shell.execute_reply": "2023-06-26T07:00:34.848019Z"
    },
    "papermill": {
     "duration": 0.016448,
     "end_time": "2023-06-26T07:00:34.850596",
     "exception": false,
     "start_time": "2023-06-26T07:00:34.834148",
     "status": "completed"
    },
    "tags": []
   },
   "outputs": [
    {
     "data": {
      "text/plain": [
       "Index(['Campaign_ID', 'Company', 'Campaign_Type', 'Target_Audience',\n",
       "       'Duration', 'Channel_Used', 'Conversion_Rate', 'Acquisition_Cost',\n",
       "       'ROI', 'Location', 'Language', 'Clicks', 'Impressions',\n",
       "       'Engagement_Score', 'Customer_Segment', 'Date'],\n",
       "      dtype='object')"
      ]
     },
     "execution_count": 4,
     "metadata": {},
     "output_type": "execute_result"
    }
   ],
   "source": [
    "df.columns"
   ]
  },
  {
   "cell_type": "code",
   "execution_count": 5,
   "id": "a976d319",
   "metadata": {
    "execution": {
     "iopub.execute_input": "2023-06-26T07:00:34.867325Z",
     "iopub.status.busy": "2023-06-26T07:00:34.866304Z",
     "iopub.status.idle": "2023-06-26T07:00:35.152041Z",
     "shell.execute_reply": "2023-06-26T07:00:35.150578Z"
    },
    "papermill": {
     "duration": 0.296274,
     "end_time": "2023-06-26T07:00:35.154258",
     "exception": false,
     "start_time": "2023-06-26T07:00:34.857984",
     "status": "completed"
    },
    "tags": []
   },
   "outputs": [
    {
     "name": "stdout",
     "output_type": "stream",
     "text": [
      "<class 'pandas.core.frame.DataFrame'>\n",
      "RangeIndex: 200000 entries, 0 to 199999\n",
      "Data columns (total 16 columns):\n",
      " #   Column            Non-Null Count   Dtype  \n",
      "---  ------            --------------   -----  \n",
      " 0   Campaign_ID       200000 non-null  int64  \n",
      " 1   Company           200000 non-null  object \n",
      " 2   Campaign_Type     200000 non-null  object \n",
      " 3   Target_Audience   200000 non-null  object \n",
      " 4   Duration          200000 non-null  object \n",
      " 5   Channel_Used      200000 non-null  object \n",
      " 6   Conversion_Rate   200000 non-null  float64\n",
      " 7   Acquisition_Cost  200000 non-null  object \n",
      " 8   ROI               200000 non-null  float64\n",
      " 9   Location          200000 non-null  object \n",
      " 10  Language          200000 non-null  object \n",
      " 11  Clicks            200000 non-null  int64  \n",
      " 12  Impressions       200000 non-null  int64  \n",
      " 13  Engagement_Score  200000 non-null  int64  \n",
      " 14  Customer_Segment  200000 non-null  object \n",
      " 15  Date              200000 non-null  object \n",
      "dtypes: float64(2), int64(4), object(10)\n",
      "memory usage: 24.4+ MB\n"
     ]
    }
   ],
   "source": [
    "df.info()"
   ]
  },
  {
   "cell_type": "code",
   "execution_count": 6,
   "id": "345f4e1a",
   "metadata": {
    "execution": {
     "iopub.execute_input": "2023-06-26T07:00:35.170796Z",
     "iopub.status.busy": "2023-06-26T07:00:35.170458Z",
     "iopub.status.idle": "2023-06-26T07:00:35.197030Z",
     "shell.execute_reply": "2023-06-26T07:00:35.196081Z"
    },
    "papermill": {
     "duration": 0.037591,
     "end_time": "2023-06-26T07:00:35.199458",
     "exception": false,
     "start_time": "2023-06-26T07:00:35.161867",
     "status": "completed"
    },
    "tags": []
   },
   "outputs": [
    {
     "data": {
      "text/html": [
       "<div>\n",
       "<style scoped>\n",
       "    .dataframe tbody tr th:only-of-type {\n",
       "        vertical-align: middle;\n",
       "    }\n",
       "\n",
       "    .dataframe tbody tr th {\n",
       "        vertical-align: top;\n",
       "    }\n",
       "\n",
       "    .dataframe thead th {\n",
       "        text-align: right;\n",
       "    }\n",
       "</style>\n",
       "<table border=\"1\" class=\"dataframe\">\n",
       "  <thead>\n",
       "    <tr style=\"text-align: right;\">\n",
       "      <th></th>\n",
       "      <th>Campaign_ID</th>\n",
       "      <th>Company</th>\n",
       "      <th>Campaign_Type</th>\n",
       "      <th>Target_Audience</th>\n",
       "      <th>Duration</th>\n",
       "      <th>Channel_Used</th>\n",
       "      <th>Conversion_Rate</th>\n",
       "      <th>Acquisition_Cost</th>\n",
       "      <th>ROI</th>\n",
       "      <th>Location</th>\n",
       "      <th>Language</th>\n",
       "      <th>Clicks</th>\n",
       "      <th>Impressions</th>\n",
       "      <th>Engagement_Score</th>\n",
       "      <th>Customer_Segment</th>\n",
       "      <th>Date</th>\n",
       "    </tr>\n",
       "  </thead>\n",
       "  <tbody>\n",
       "    <tr>\n",
       "      <th>0</th>\n",
       "      <td>1</td>\n",
       "      <td>Innovate Industries</td>\n",
       "      <td>Email</td>\n",
       "      <td>Men 18-24</td>\n",
       "      <td>30 days</td>\n",
       "      <td>Google Ads</td>\n",
       "      <td>0.04</td>\n",
       "      <td>$16,174.00</td>\n",
       "      <td>6.29</td>\n",
       "      <td>Chicago</td>\n",
       "      <td>Spanish</td>\n",
       "      <td>506</td>\n",
       "      <td>1922</td>\n",
       "      <td>6</td>\n",
       "      <td>Health &amp; Wellness</td>\n",
       "      <td>2021-01-01</td>\n",
       "    </tr>\n",
       "    <tr>\n",
       "      <th>1</th>\n",
       "      <td>2</td>\n",
       "      <td>NexGen Systems</td>\n",
       "      <td>Email</td>\n",
       "      <td>Women 35-44</td>\n",
       "      <td>60 days</td>\n",
       "      <td>Google Ads</td>\n",
       "      <td>0.12</td>\n",
       "      <td>$11,566.00</td>\n",
       "      <td>5.61</td>\n",
       "      <td>New York</td>\n",
       "      <td>German</td>\n",
       "      <td>116</td>\n",
       "      <td>7523</td>\n",
       "      <td>7</td>\n",
       "      <td>Fashionistas</td>\n",
       "      <td>2021-01-02</td>\n",
       "    </tr>\n",
       "    <tr>\n",
       "      <th>2</th>\n",
       "      <td>3</td>\n",
       "      <td>Alpha Innovations</td>\n",
       "      <td>Influencer</td>\n",
       "      <td>Men 25-34</td>\n",
       "      <td>30 days</td>\n",
       "      <td>YouTube</td>\n",
       "      <td>0.07</td>\n",
       "      <td>$10,200.00</td>\n",
       "      <td>7.18</td>\n",
       "      <td>Los Angeles</td>\n",
       "      <td>French</td>\n",
       "      <td>584</td>\n",
       "      <td>7698</td>\n",
       "      <td>1</td>\n",
       "      <td>Outdoor Adventurers</td>\n",
       "      <td>2021-01-03</td>\n",
       "    </tr>\n",
       "    <tr>\n",
       "      <th>3</th>\n",
       "      <td>4</td>\n",
       "      <td>DataTech Solutions</td>\n",
       "      <td>Display</td>\n",
       "      <td>All Ages</td>\n",
       "      <td>60 days</td>\n",
       "      <td>YouTube</td>\n",
       "      <td>0.11</td>\n",
       "      <td>$12,724.00</td>\n",
       "      <td>5.55</td>\n",
       "      <td>Miami</td>\n",
       "      <td>Mandarin</td>\n",
       "      <td>217</td>\n",
       "      <td>1820</td>\n",
       "      <td>7</td>\n",
       "      <td>Health &amp; Wellness</td>\n",
       "      <td>2021-01-04</td>\n",
       "    </tr>\n",
       "    <tr>\n",
       "      <th>4</th>\n",
       "      <td>5</td>\n",
       "      <td>NexGen Systems</td>\n",
       "      <td>Email</td>\n",
       "      <td>Men 25-34</td>\n",
       "      <td>15 days</td>\n",
       "      <td>YouTube</td>\n",
       "      <td>0.05</td>\n",
       "      <td>$16,452.00</td>\n",
       "      <td>6.50</td>\n",
       "      <td>Los Angeles</td>\n",
       "      <td>Mandarin</td>\n",
       "      <td>379</td>\n",
       "      <td>4201</td>\n",
       "      <td>3</td>\n",
       "      <td>Health &amp; Wellness</td>\n",
       "      <td>2021-01-05</td>\n",
       "    </tr>\n",
       "  </tbody>\n",
       "</table>\n",
       "</div>"
      ],
      "text/plain": [
       "   Campaign_ID              Company Campaign_Type Target_Audience Duration  \\\n",
       "0            1  Innovate Industries         Email       Men 18-24  30 days   \n",
       "1            2       NexGen Systems         Email     Women 35-44  60 days   \n",
       "2            3    Alpha Innovations    Influencer       Men 25-34  30 days   \n",
       "3            4   DataTech Solutions       Display        All Ages  60 days   \n",
       "4            5       NexGen Systems         Email       Men 25-34  15 days   \n",
       "\n",
       "  Channel_Used  Conversion_Rate Acquisition_Cost   ROI     Location  Language  \\\n",
       "0   Google Ads             0.04       $16,174.00  6.29      Chicago   Spanish   \n",
       "1   Google Ads             0.12       $11,566.00  5.61     New York    German   \n",
       "2      YouTube             0.07       $10,200.00  7.18  Los Angeles    French   \n",
       "3      YouTube             0.11       $12,724.00  5.55        Miami  Mandarin   \n",
       "4      YouTube             0.05       $16,452.00  6.50  Los Angeles  Mandarin   \n",
       "\n",
       "   Clicks  Impressions  Engagement_Score     Customer_Segment        Date  \n",
       "0     506         1922                 6    Health & Wellness  2021-01-01  \n",
       "1     116         7523                 7         Fashionistas  2021-01-02  \n",
       "2     584         7698                 1  Outdoor Adventurers  2021-01-03  \n",
       "3     217         1820                 7    Health & Wellness  2021-01-04  \n",
       "4     379         4201                 3    Health & Wellness  2021-01-05  "
      ]
     },
     "execution_count": 6,
     "metadata": {},
     "output_type": "execute_result"
    }
   ],
   "source": [
    "df.head()"
   ]
  },
  {
   "cell_type": "code",
   "execution_count": 7,
   "id": "21d9a617",
   "metadata": {
    "execution": {
     "iopub.execute_input": "2023-06-26T07:00:35.217581Z",
     "iopub.status.busy": "2023-06-26T07:00:35.216645Z",
     "iopub.status.idle": "2023-06-26T07:00:35.233127Z",
     "shell.execute_reply": "2023-06-26T07:00:35.232060Z"
    },
    "papermill": {
     "duration": 0.028066,
     "end_time": "2023-06-26T07:00:35.235662",
     "exception": false,
     "start_time": "2023-06-26T07:00:35.207596",
     "status": "completed"
    },
    "tags": []
   },
   "outputs": [
    {
     "data": {
      "text/html": [
       "<div>\n",
       "<style scoped>\n",
       "    .dataframe tbody tr th:only-of-type {\n",
       "        vertical-align: middle;\n",
       "    }\n",
       "\n",
       "    .dataframe tbody tr th {\n",
       "        vertical-align: top;\n",
       "    }\n",
       "\n",
       "    .dataframe thead th {\n",
       "        text-align: right;\n",
       "    }\n",
       "</style>\n",
       "<table border=\"1\" class=\"dataframe\">\n",
       "  <thead>\n",
       "    <tr style=\"text-align: right;\">\n",
       "      <th></th>\n",
       "      <th>Campaign_ID</th>\n",
       "      <th>Company</th>\n",
       "      <th>Campaign_Type</th>\n",
       "      <th>Target_Audience</th>\n",
       "      <th>Duration</th>\n",
       "      <th>Channel_Used</th>\n",
       "      <th>Conversion_Rate</th>\n",
       "      <th>Acquisition_Cost</th>\n",
       "      <th>ROI</th>\n",
       "      <th>Location</th>\n",
       "      <th>Language</th>\n",
       "      <th>Clicks</th>\n",
       "      <th>Impressions</th>\n",
       "      <th>Engagement_Score</th>\n",
       "      <th>Customer_Segment</th>\n",
       "      <th>Date</th>\n",
       "    </tr>\n",
       "  </thead>\n",
       "  <tbody>\n",
       "    <tr>\n",
       "      <th>199995</th>\n",
       "      <td>199996</td>\n",
       "      <td>TechCorp</td>\n",
       "      <td>Display</td>\n",
       "      <td>All Ages</td>\n",
       "      <td>30 days</td>\n",
       "      <td>Google Ads</td>\n",
       "      <td>0.06</td>\n",
       "      <td>$18,365.00</td>\n",
       "      <td>2.84</td>\n",
       "      <td>Chicago</td>\n",
       "      <td>German</td>\n",
       "      <td>858</td>\n",
       "      <td>5988</td>\n",
       "      <td>1</td>\n",
       "      <td>Tech Enthusiasts</td>\n",
       "      <td>2021-12-07</td>\n",
       "    </tr>\n",
       "    <tr>\n",
       "      <th>199996</th>\n",
       "      <td>199997</td>\n",
       "      <td>DataTech Solutions</td>\n",
       "      <td>Email</td>\n",
       "      <td>Men 25-34</td>\n",
       "      <td>15 days</td>\n",
       "      <td>Facebook</td>\n",
       "      <td>0.02</td>\n",
       "      <td>$8,168.00</td>\n",
       "      <td>4.14</td>\n",
       "      <td>Chicago</td>\n",
       "      <td>Spanish</td>\n",
       "      <td>228</td>\n",
       "      <td>3068</td>\n",
       "      <td>7</td>\n",
       "      <td>Foodies</td>\n",
       "      <td>2021-12-08</td>\n",
       "    </tr>\n",
       "    <tr>\n",
       "      <th>199997</th>\n",
       "      <td>199998</td>\n",
       "      <td>DataTech Solutions</td>\n",
       "      <td>Social Media</td>\n",
       "      <td>Men 18-24</td>\n",
       "      <td>45 days</td>\n",
       "      <td>Website</td>\n",
       "      <td>0.05</td>\n",
       "      <td>$13,397.00</td>\n",
       "      <td>3.25</td>\n",
       "      <td>New York</td>\n",
       "      <td>Mandarin</td>\n",
       "      <td>723</td>\n",
       "      <td>9548</td>\n",
       "      <td>3</td>\n",
       "      <td>Tech Enthusiasts</td>\n",
       "      <td>2021-12-09</td>\n",
       "    </tr>\n",
       "    <tr>\n",
       "      <th>199998</th>\n",
       "      <td>199999</td>\n",
       "      <td>Innovate Industries</td>\n",
       "      <td>Influencer</td>\n",
       "      <td>All Ages</td>\n",
       "      <td>30 days</td>\n",
       "      <td>YouTube</td>\n",
       "      <td>0.10</td>\n",
       "      <td>$18,508.00</td>\n",
       "      <td>3.86</td>\n",
       "      <td>Houston</td>\n",
       "      <td>French</td>\n",
       "      <td>528</td>\n",
       "      <td>2763</td>\n",
       "      <td>1</td>\n",
       "      <td>Foodies</td>\n",
       "      <td>2021-12-10</td>\n",
       "    </tr>\n",
       "    <tr>\n",
       "      <th>199999</th>\n",
       "      <td>200000</td>\n",
       "      <td>Innovate Industries</td>\n",
       "      <td>Social Media</td>\n",
       "      <td>Women 35-44</td>\n",
       "      <td>45 days</td>\n",
       "      <td>Google Ads</td>\n",
       "      <td>0.01</td>\n",
       "      <td>$13,835.00</td>\n",
       "      <td>6.64</td>\n",
       "      <td>Chicago</td>\n",
       "      <td>Spanish</td>\n",
       "      <td>924</td>\n",
       "      <td>7287</td>\n",
       "      <td>8</td>\n",
       "      <td>Tech Enthusiasts</td>\n",
       "      <td>2021-12-11</td>\n",
       "    </tr>\n",
       "  </tbody>\n",
       "</table>\n",
       "</div>"
      ],
      "text/plain": [
       "        Campaign_ID              Company Campaign_Type Target_Audience  \\\n",
       "199995       199996             TechCorp       Display        All Ages   \n",
       "199996       199997   DataTech Solutions         Email       Men 25-34   \n",
       "199997       199998   DataTech Solutions  Social Media       Men 18-24   \n",
       "199998       199999  Innovate Industries    Influencer        All Ages   \n",
       "199999       200000  Innovate Industries  Social Media     Women 35-44   \n",
       "\n",
       "       Duration Channel_Used  Conversion_Rate Acquisition_Cost   ROI  \\\n",
       "199995  30 days   Google Ads             0.06       $18,365.00  2.84   \n",
       "199996  15 days     Facebook             0.02        $8,168.00  4.14   \n",
       "199997  45 days      Website             0.05       $13,397.00  3.25   \n",
       "199998  30 days      YouTube             0.10       $18,508.00  3.86   \n",
       "199999  45 days   Google Ads             0.01       $13,835.00  6.64   \n",
       "\n",
       "        Location  Language  Clicks  Impressions  Engagement_Score  \\\n",
       "199995   Chicago    German     858         5988                 1   \n",
       "199996   Chicago   Spanish     228         3068                 7   \n",
       "199997  New York  Mandarin     723         9548                 3   \n",
       "199998   Houston    French     528         2763                 1   \n",
       "199999   Chicago   Spanish     924         7287                 8   \n",
       "\n",
       "        Customer_Segment        Date  \n",
       "199995  Tech Enthusiasts  2021-12-07  \n",
       "199996           Foodies  2021-12-08  \n",
       "199997  Tech Enthusiasts  2021-12-09  \n",
       "199998           Foodies  2021-12-10  \n",
       "199999  Tech Enthusiasts  2021-12-11  "
      ]
     },
     "execution_count": 7,
     "metadata": {},
     "output_type": "execute_result"
    }
   ],
   "source": [
    "df.tail()"
   ]
  },
  {
   "cell_type": "markdown",
   "id": "4463b80f",
   "metadata": {
    "papermill": {
     "duration": 0.007687,
     "end_time": "2023-06-26T07:00:35.251894",
     "exception": false,
     "start_time": "2023-06-26T07:00:35.244207",
     "status": "completed"
    },
    "tags": []
   },
   "source": [
    "# 🧩 Data Preparation 🧩"
   ]
  },
  {
   "cell_type": "code",
   "execution_count": 8,
   "id": "03d43486",
   "metadata": {
    "execution": {
     "iopub.execute_input": "2023-06-26T07:00:35.270604Z",
     "iopub.status.busy": "2023-06-26T07:00:35.270232Z",
     "iopub.status.idle": "2023-06-26T07:00:35.447320Z",
     "shell.execute_reply": "2023-06-26T07:00:35.446191Z"
    },
    "papermill": {
     "duration": 0.189189,
     "end_time": "2023-06-26T07:00:35.449435",
     "exception": false,
     "start_time": "2023-06-26T07:00:35.260246",
     "status": "completed"
    },
    "tags": []
   },
   "outputs": [],
   "source": [
    "# Remove dollar sign and commas from 'Acquisition_Cost' column and convert it to float\n",
    "df['Acquisition_Cost'] = df['Acquisition_Cost'].str.replace('$', '').str.replace(',', '').astype(float)"
   ]
  },
  {
   "cell_type": "code",
   "execution_count": 9,
   "id": "b3ea6d8d",
   "metadata": {
    "execution": {
     "iopub.execute_input": "2023-06-26T07:00:35.468305Z",
     "iopub.status.busy": "2023-06-26T07:00:35.467023Z",
     "iopub.status.idle": "2023-06-26T07:00:36.024116Z",
     "shell.execute_reply": "2023-06-26T07:00:36.022514Z"
    },
    "papermill": {
     "duration": 0.569133,
     "end_time": "2023-06-26T07:00:36.026829",
     "exception": false,
     "start_time": "2023-06-26T07:00:35.457696",
     "status": "completed"
    },
    "tags": []
   },
   "outputs": [],
   "source": [
    "\n",
    "# Convert 'Duration' column to numeric by extracting the number of days\n",
    "df['Duration'] = df['Duration'].str.extract('(\\d+)').astype(int)"
   ]
  },
  {
   "cell_type": "code",
   "execution_count": 10,
   "id": "e1e9be1f",
   "metadata": {
    "execution": {
     "iopub.execute_input": "2023-06-26T07:00:36.044598Z",
     "iopub.status.busy": "2023-06-26T07:00:36.044246Z",
     "iopub.status.idle": "2023-06-26T07:00:36.086095Z",
     "shell.execute_reply": "2023-06-26T07:00:36.084994Z"
    },
    "papermill": {
     "duration": 0.053703,
     "end_time": "2023-06-26T07:00:36.088764",
     "exception": false,
     "start_time": "2023-06-26T07:00:36.035061",
     "status": "completed"
    },
    "tags": []
   },
   "outputs": [],
   "source": [
    "# Convert 'Date' column to datetime format\n",
    "df['Date'] = pd.to_datetime(df['Date'])"
   ]
  },
  {
   "cell_type": "code",
   "execution_count": 11,
   "id": "33c1a6ed",
   "metadata": {
    "execution": {
     "iopub.execute_input": "2023-06-26T07:00:36.106426Z",
     "iopub.status.busy": "2023-06-26T07:00:36.106046Z",
     "iopub.status.idle": "2023-06-26T07:00:36.293356Z",
     "shell.execute_reply": "2023-06-26T07:00:36.292382Z"
    },
    "papermill": {
     "duration": 0.198807,
     "end_time": "2023-06-26T07:00:36.295646",
     "exception": false,
     "start_time": "2023-06-26T07:00:36.096839",
     "status": "completed"
    },
    "tags": []
   },
   "outputs": [
    {
     "data": {
      "text/plain": [
       "Campaign_ID         0\n",
       "Company             0\n",
       "Campaign_Type       0\n",
       "Target_Audience     0\n",
       "Duration            0\n",
       "Channel_Used        0\n",
       "Conversion_Rate     0\n",
       "Acquisition_Cost    0\n",
       "ROI                 0\n",
       "Location            0\n",
       "Language            0\n",
       "Clicks              0\n",
       "Impressions         0\n",
       "Engagement_Score    0\n",
       "Customer_Segment    0\n",
       "Date                0\n",
       "dtype: int64"
      ]
     },
     "execution_count": 11,
     "metadata": {},
     "output_type": "execute_result"
    }
   ],
   "source": [
    "# Check for any missing values\n",
    "df.isnull().sum()"
   ]
  },
  {
   "cell_type": "code",
   "execution_count": 12,
   "id": "36a86653",
   "metadata": {
    "execution": {
     "iopub.execute_input": "2023-06-26T07:00:36.313657Z",
     "iopub.status.busy": "2023-06-26T07:00:36.313292Z",
     "iopub.status.idle": "2023-06-26T07:00:36.390171Z",
     "shell.execute_reply": "2023-06-26T07:00:36.389519Z"
    },
    "papermill": {
     "duration": 0.088001,
     "end_time": "2023-06-26T07:00:36.391971",
     "exception": false,
     "start_time": "2023-06-26T07:00:36.303970",
     "status": "completed"
    },
    "tags": []
   },
   "outputs": [
    {
     "data": {
      "text/html": [
       "<div>\n",
       "<style scoped>\n",
       "    .dataframe tbody tr th:only-of-type {\n",
       "        vertical-align: middle;\n",
       "    }\n",
       "\n",
       "    .dataframe tbody tr th {\n",
       "        vertical-align: top;\n",
       "    }\n",
       "\n",
       "    .dataframe thead th {\n",
       "        text-align: right;\n",
       "    }\n",
       "</style>\n",
       "<table border=\"1\" class=\"dataframe\">\n",
       "  <thead>\n",
       "    <tr style=\"text-align: right;\">\n",
       "      <th></th>\n",
       "      <th>Campaign_ID</th>\n",
       "      <th>Duration</th>\n",
       "      <th>Conversion_Rate</th>\n",
       "      <th>Acquisition_Cost</th>\n",
       "      <th>ROI</th>\n",
       "      <th>Clicks</th>\n",
       "      <th>Impressions</th>\n",
       "      <th>Engagement_Score</th>\n",
       "      <th>Date</th>\n",
       "    </tr>\n",
       "  </thead>\n",
       "  <tbody>\n",
       "    <tr>\n",
       "      <th>count</th>\n",
       "      <td>200000.000000</td>\n",
       "      <td>200000.000000</td>\n",
       "      <td>200000.000000</td>\n",
       "      <td>200000.000000</td>\n",
       "      <td>200000.000000</td>\n",
       "      <td>200000.000000</td>\n",
       "      <td>200000.000000</td>\n",
       "      <td>200000.000000</td>\n",
       "      <td>200000</td>\n",
       "    </tr>\n",
       "    <tr>\n",
       "      <th>mean</th>\n",
       "      <td>100000.500000</td>\n",
       "      <td>37.503975</td>\n",
       "      <td>0.080070</td>\n",
       "      <td>12504.393040</td>\n",
       "      <td>5.002438</td>\n",
       "      <td>549.772030</td>\n",
       "      <td>5507.301520</td>\n",
       "      <td>5.494710</td>\n",
       "      <td>2021-07-01 23:35:09.600000</td>\n",
       "    </tr>\n",
       "    <tr>\n",
       "      <th>min</th>\n",
       "      <td>1.000000</td>\n",
       "      <td>15.000000</td>\n",
       "      <td>0.010000</td>\n",
       "      <td>5000.000000</td>\n",
       "      <td>2.000000</td>\n",
       "      <td>100.000000</td>\n",
       "      <td>1000.000000</td>\n",
       "      <td>1.000000</td>\n",
       "      <td>2021-01-01 00:00:00</td>\n",
       "    </tr>\n",
       "    <tr>\n",
       "      <th>25%</th>\n",
       "      <td>50000.750000</td>\n",
       "      <td>30.000000</td>\n",
       "      <td>0.050000</td>\n",
       "      <td>8739.750000</td>\n",
       "      <td>3.500000</td>\n",
       "      <td>325.000000</td>\n",
       "      <td>3266.000000</td>\n",
       "      <td>3.000000</td>\n",
       "      <td>2021-04-02 00:00:00</td>\n",
       "    </tr>\n",
       "    <tr>\n",
       "      <th>50%</th>\n",
       "      <td>100000.500000</td>\n",
       "      <td>30.000000</td>\n",
       "      <td>0.080000</td>\n",
       "      <td>12496.500000</td>\n",
       "      <td>5.010000</td>\n",
       "      <td>550.000000</td>\n",
       "      <td>5517.500000</td>\n",
       "      <td>5.000000</td>\n",
       "      <td>2021-07-02 00:00:00</td>\n",
       "    </tr>\n",
       "    <tr>\n",
       "      <th>75%</th>\n",
       "      <td>150000.250000</td>\n",
       "      <td>45.000000</td>\n",
       "      <td>0.120000</td>\n",
       "      <td>16264.000000</td>\n",
       "      <td>6.510000</td>\n",
       "      <td>775.000000</td>\n",
       "      <td>7753.000000</td>\n",
       "      <td>8.000000</td>\n",
       "      <td>2021-10-01 00:00:00</td>\n",
       "    </tr>\n",
       "    <tr>\n",
       "      <th>max</th>\n",
       "      <td>200000.000000</td>\n",
       "      <td>60.000000</td>\n",
       "      <td>0.150000</td>\n",
       "      <td>20000.000000</td>\n",
       "      <td>8.000000</td>\n",
       "      <td>1000.000000</td>\n",
       "      <td>10000.000000</td>\n",
       "      <td>10.000000</td>\n",
       "      <td>2021-12-31 00:00:00</td>\n",
       "    </tr>\n",
       "    <tr>\n",
       "      <th>std</th>\n",
       "      <td>57735.171256</td>\n",
       "      <td>16.746720</td>\n",
       "      <td>0.040602</td>\n",
       "      <td>4337.664545</td>\n",
       "      <td>1.734488</td>\n",
       "      <td>260.019056</td>\n",
       "      <td>2596.864286</td>\n",
       "      <td>2.872581</td>\n",
       "      <td>NaN</td>\n",
       "    </tr>\n",
       "  </tbody>\n",
       "</table>\n",
       "</div>"
      ],
      "text/plain": [
       "         Campaign_ID       Duration  Conversion_Rate  Acquisition_Cost  \\\n",
       "count  200000.000000  200000.000000    200000.000000     200000.000000   \n",
       "mean   100000.500000      37.503975         0.080070      12504.393040   \n",
       "min         1.000000      15.000000         0.010000       5000.000000   \n",
       "25%     50000.750000      30.000000         0.050000       8739.750000   \n",
       "50%    100000.500000      30.000000         0.080000      12496.500000   \n",
       "75%    150000.250000      45.000000         0.120000      16264.000000   \n",
       "max    200000.000000      60.000000         0.150000      20000.000000   \n",
       "std     57735.171256      16.746720         0.040602       4337.664545   \n",
       "\n",
       "                 ROI         Clicks    Impressions  Engagement_Score  \\\n",
       "count  200000.000000  200000.000000  200000.000000     200000.000000   \n",
       "mean        5.002438     549.772030    5507.301520          5.494710   \n",
       "min         2.000000     100.000000    1000.000000          1.000000   \n",
       "25%         3.500000     325.000000    3266.000000          3.000000   \n",
       "50%         5.010000     550.000000    5517.500000          5.000000   \n",
       "75%         6.510000     775.000000    7753.000000          8.000000   \n",
       "max         8.000000    1000.000000   10000.000000         10.000000   \n",
       "std         1.734488     260.019056    2596.864286          2.872581   \n",
       "\n",
       "                             Date  \n",
       "count                      200000  \n",
       "mean   2021-07-01 23:35:09.600000  \n",
       "min           2021-01-01 00:00:00  \n",
       "25%           2021-04-02 00:00:00  \n",
       "50%           2021-07-02 00:00:00  \n",
       "75%           2021-10-01 00:00:00  \n",
       "max           2021-12-31 00:00:00  \n",
       "std                           NaN  "
      ]
     },
     "execution_count": 12,
     "metadata": {},
     "output_type": "execute_result"
    }
   ],
   "source": [
    "# Summary statistics\n",
    "df.describe()"
   ]
  },
  {
   "cell_type": "code",
   "execution_count": 13,
   "id": "05f3ed7b",
   "metadata": {
    "execution": {
     "iopub.execute_input": "2023-06-26T07:00:36.410506Z",
     "iopub.status.busy": "2023-06-26T07:00:36.409974Z",
     "iopub.status.idle": "2023-06-26T07:00:36.428087Z",
     "shell.execute_reply": "2023-06-26T07:00:36.427261Z"
    },
    "papermill": {
     "duration": 0.030196,
     "end_time": "2023-06-26T07:00:36.430496",
     "exception": false,
     "start_time": "2023-06-26T07:00:36.400300",
     "status": "completed"
    },
    "tags": []
   },
   "outputs": [
    {
     "name": "stdout",
     "output_type": "stream",
     "text": [
      "Unique Campaign Types: ['Innovate Industries' 'NexGen Systems' 'Alpha Innovations'\n",
      " 'DataTech Solutions' 'TechCorp']\n"
     ]
    }
   ],
   "source": [
    "# Unique values of 'Campaign_Type'\n",
    "Company_types = df['Company'].unique()\n",
    "print(\"Unique Campaign Types:\", Company_types)"
   ]
  },
  {
   "cell_type": "code",
   "execution_count": 14,
   "id": "b0bbf59d",
   "metadata": {
    "execution": {
     "iopub.execute_input": "2023-06-26T07:00:36.449627Z",
     "iopub.status.busy": "2023-06-26T07:00:36.449096Z",
     "iopub.status.idle": "2023-06-26T07:00:36.466989Z",
     "shell.execute_reply": "2023-06-26T07:00:36.465472Z"
    },
    "papermill": {
     "duration": 0.029761,
     "end_time": "2023-06-26T07:00:36.468996",
     "exception": false,
     "start_time": "2023-06-26T07:00:36.439235",
     "status": "completed"
    },
    "tags": []
   },
   "outputs": [
    {
     "name": "stdout",
     "output_type": "stream",
     "text": [
      "Unique Campaign Types: ['Email' 'Influencer' 'Display' 'Search' 'Social Media']\n"
     ]
    }
   ],
   "source": [
    "# Unique values of 'Campaign_Type'\n",
    "campaign_types = df['Campaign_Type'].unique()\n",
    "print(\"Unique Campaign Types:\", campaign_types)"
   ]
  },
  {
   "cell_type": "code",
   "execution_count": 15,
   "id": "86a8d920",
   "metadata": {
    "execution": {
     "iopub.execute_input": "2023-06-26T07:00:36.487552Z",
     "iopub.status.busy": "2023-06-26T07:00:36.487157Z",
     "iopub.status.idle": "2023-06-26T07:00:36.505299Z",
     "shell.execute_reply": "2023-06-26T07:00:36.503765Z"
    },
    "papermill": {
     "duration": 0.030016,
     "end_time": "2023-06-26T07:00:36.507586",
     "exception": false,
     "start_time": "2023-06-26T07:00:36.477570",
     "status": "completed"
    },
    "tags": []
   },
   "outputs": [
    {
     "name": "stdout",
     "output_type": "stream",
     "text": [
      "Unique Target Audiences: ['Men 18-24' 'Women 35-44' 'Men 25-34' 'All Ages' 'Women 25-34']\n"
     ]
    }
   ],
   "source": [
    "# Unique values of 'Target_Audience'\n",
    "target_audiences = df['Target_Audience'].unique()\n",
    "print(\"Unique Target Audiences:\", target_audiences)"
   ]
  },
  {
   "cell_type": "code",
   "execution_count": 16,
   "id": "db0db05a",
   "metadata": {
    "execution": {
     "iopub.execute_input": "2023-06-26T07:00:36.525944Z",
     "iopub.status.busy": "2023-06-26T07:00:36.525619Z",
     "iopub.status.idle": "2023-06-26T07:00:36.543637Z",
     "shell.execute_reply": "2023-06-26T07:00:36.542042Z"
    },
    "papermill": {
     "duration": 0.029742,
     "end_time": "2023-06-26T07:00:36.545982",
     "exception": false,
     "start_time": "2023-06-26T07:00:36.516240",
     "status": "completed"
    },
    "tags": []
   },
   "outputs": [
    {
     "name": "stdout",
     "output_type": "stream",
     "text": [
      "Unique Channels Used: ['Google Ads' 'YouTube' 'Instagram' 'Website' 'Facebook' 'Email']\n"
     ]
    }
   ],
   "source": [
    "\n",
    "# Unique values of 'Channel_Used'\n",
    "channels_used = df['Channel_Used'].unique()\n",
    "print(\"Unique Channels Used:\", channels_used)"
   ]
  },
  {
   "cell_type": "code",
   "execution_count": 17,
   "id": "f0a51eb4",
   "metadata": {
    "execution": {
     "iopub.execute_input": "2023-06-26T07:00:36.564693Z",
     "iopub.status.busy": "2023-06-26T07:00:36.564280Z",
     "iopub.status.idle": "2023-06-26T07:00:36.581231Z",
     "shell.execute_reply": "2023-06-26T07:00:36.580308Z"
    },
    "papermill": {
     "duration": 0.028275,
     "end_time": "2023-06-26T07:00:36.583062",
     "exception": false,
     "start_time": "2023-06-26T07:00:36.554787",
     "status": "completed"
    },
    "tags": []
   },
   "outputs": [
    {
     "name": "stdout",
     "output_type": "stream",
     "text": [
      "Unique Languages: ['Spanish' 'German' 'French' 'Mandarin' 'English']\n"
     ]
    }
   ],
   "source": [
    "# Unique values of 'Language'\n",
    "languages = df['Language'].unique()\n",
    "print(\"Unique Languages:\", languages)"
   ]
  },
  {
   "cell_type": "code",
   "execution_count": 18,
   "id": "34a8546b",
   "metadata": {
    "execution": {
     "iopub.execute_input": "2023-06-26T07:00:36.601808Z",
     "iopub.status.busy": "2023-06-26T07:00:36.601505Z",
     "iopub.status.idle": "2023-06-26T07:00:36.620390Z",
     "shell.execute_reply": "2023-06-26T07:00:36.619305Z"
    },
    "papermill": {
     "duration": 0.030665,
     "end_time": "2023-06-26T07:00:36.622584",
     "exception": false,
     "start_time": "2023-06-26T07:00:36.591919",
     "status": "completed"
    },
    "tags": []
   },
   "outputs": [
    {
     "name": "stdout",
     "output_type": "stream",
     "text": [
      "Unique Customer Segments: ['Health & Wellness' 'Fashionistas' 'Outdoor Adventurers' 'Foodies'\n",
      " 'Tech Enthusiasts']\n"
     ]
    }
   ],
   "source": [
    "# Unique values of 'Customer_Segment'\n",
    "customer_segments = df['Customer_Segment'].unique()\n",
    "print(\"Unique Customer Segments:\", customer_segments)"
   ]
  },
  {
   "cell_type": "code",
   "execution_count": 19,
   "id": "af1cc9c4",
   "metadata": {
    "execution": {
     "iopub.execute_input": "2023-06-26T07:00:36.642458Z",
     "iopub.status.busy": "2023-06-26T07:00:36.642132Z",
     "iopub.status.idle": "2023-06-26T07:00:36.774942Z",
     "shell.execute_reply": "2023-06-26T07:00:36.773986Z"
    },
    "papermill": {
     "duration": 0.145514,
     "end_time": "2023-06-26T07:00:36.777239",
     "exception": false,
     "start_time": "2023-06-26T07:00:36.631725",
     "status": "completed"
    },
    "tags": []
   },
   "outputs": [],
   "source": [
    "# Convert 'Campaign_Type' column to categorical\n",
    "df['Company'] = df['Company'].astype('category')\n",
    "\n",
    "# Convert 'Campaign_Type' column to categorical\n",
    "df['Campaign_Type'] = df['Campaign_Type'].astype('category')\n",
    "\n",
    "\n",
    "# Convert 'Target_Audience' column to categorical\n",
    "df['Target_Audience'] = df['Target_Audience'].astype('category')\n",
    "\n",
    "# Convert 'Channel_Used' column to categorical\n",
    "df['Channel_Used'] = df['Channel_Used'].astype('category')\n",
    "\n",
    "# Convert 'Language' column to categorical\n",
    "df['Language'] = df['Language'].astype('category')\n",
    "\n",
    "# Convert 'Customer_Segment' column to categorical\n",
    "df['Customer_Segment'] = df['Customer_Segment'].astype('category')"
   ]
  },
  {
   "cell_type": "code",
   "execution_count": 20,
   "id": "45250fd1",
   "metadata": {
    "execution": {
     "iopub.execute_input": "2023-06-26T07:00:36.796259Z",
     "iopub.status.busy": "2023-06-26T07:00:36.795845Z",
     "iopub.status.idle": "2023-06-26T07:00:36.838761Z",
     "shell.execute_reply": "2023-06-26T07:00:36.837195Z"
    },
    "papermill": {
     "duration": 0.054915,
     "end_time": "2023-06-26T07:00:36.840905",
     "exception": false,
     "start_time": "2023-06-26T07:00:36.785990",
     "status": "completed"
    },
    "tags": []
   },
   "outputs": [
    {
     "name": "stdout",
     "output_type": "stream",
     "text": [
      "<class 'pandas.core.frame.DataFrame'>\n",
      "RangeIndex: 200000 entries, 0 to 199999\n",
      "Data columns (total 16 columns):\n",
      " #   Column            Non-Null Count   Dtype         \n",
      "---  ------            --------------   -----         \n",
      " 0   Campaign_ID       200000 non-null  int64         \n",
      " 1   Company           200000 non-null  category      \n",
      " 2   Campaign_Type     200000 non-null  category      \n",
      " 3   Target_Audience   200000 non-null  category      \n",
      " 4   Duration          200000 non-null  int32         \n",
      " 5   Channel_Used      200000 non-null  category      \n",
      " 6   Conversion_Rate   200000 non-null  float64       \n",
      " 7   Acquisition_Cost  200000 non-null  float64       \n",
      " 8   ROI               200000 non-null  float64       \n",
      " 9   Location          200000 non-null  object        \n",
      " 10  Language          200000 non-null  category      \n",
      " 11  Clicks            200000 non-null  int64         \n",
      " 12  Impressions       200000 non-null  int64         \n",
      " 13  Engagement_Score  200000 non-null  int64         \n",
      " 14  Customer_Segment  200000 non-null  category      \n",
      " 15  Date              200000 non-null  datetime64[ns]\n",
      "dtypes: category(6), datetime64[ns](1), float64(3), int32(1), int64(4), object(1)\n",
      "memory usage: 15.6+ MB\n"
     ]
    }
   ],
   "source": [
    "df.info()"
   ]
  },
  {
   "cell_type": "markdown",
   "id": "dcfa7c08",
   "metadata": {
    "papermill": {
     "duration": 0.008601,
     "end_time": "2023-06-26T07:00:36.858484",
     "exception": false,
     "start_time": "2023-06-26T07:00:36.849883",
     "status": "completed"
    },
    "tags": []
   },
   "source": [
    "As you can see, the columns **Campaign_Type, Target_Audience, Channel_Used, Language, and Customer_Segment** are now shown as the category data type in the DataFrame's information summary. \n",
    "\n",
    "This conversion helps optimize memory usage and enables more efficient operations on categorical data."
   ]
  }
 ],
 "metadata": {
  "kernelspec": {
   "display_name": "tf",
   "language": "python",
   "name": "python3"
  },
  "language_info": {
   "codemirror_mode": {
    "name": "ipython",
    "version": 3
   },
   "file_extension": ".py",
   "mimetype": "text/x-python",
   "name": "python",
   "nbconvert_exporter": "python",
   "pygments_lexer": "ipython3",
   "version": "3.8.20"
  },
  "papermill": {
   "default_parameters": {},
   "duration": 59.660715,
   "end_time": "2023-06-26T07:01:23.575193",
   "environment_variables": {},
   "exception": null,
   "input_path": "__notebook__.ipynb",
   "output_path": "__notebook__.ipynb",
   "parameters": {},
   "start_time": "2023-06-26T07:00:23.914478",
   "version": "2.4.0"
  }
 },
 "nbformat": 4,
 "nbformat_minor": 5
}
